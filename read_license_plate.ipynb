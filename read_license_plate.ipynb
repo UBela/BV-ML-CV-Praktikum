{
 "cells": [
  {
   "cell_type": "code",
   "execution_count": 70,
   "metadata": {},
   "outputs": [],
   "source": [
    "from ultralytics import YOLO\n",
    "import numpy as np\n",
    "import os\n",
    "import cv2\n",
    "import pytesseract"
   ]
  },
  {
   "cell_type": "code",
   "execution_count": 71,
   "metadata": {},
   "outputs": [],
   "source": [
    "pytesseract.pytesseract.tesseract_cmd = r'C:\\Program Files\\Tesseract-OCR\\tesseract.exe'\n"
   ]
  },
  {
   "cell_type": "code",
   "execution_count": 72,
   "metadata": {},
   "outputs": [],
   "source": [
    "#trained yolo model\n",
    "lp_detect_model = YOLO('yolo_model/best.pt')\n"
   ]
  },
  {
   "cell_type": "code",
   "execution_count": 73,
   "metadata": {},
   "outputs": [],
   "source": [
    "#crop the license plate and save as image\n",
    "def crop_license_plates(img, yolo_model, save_img=True):\n",
    "    img_name = img.split(\"\\\\\")[-1]\n",
    "    \n",
    "    print(f\"Processing {img_name}\")\n",
    "    detected_lps = yolo_model.predict(img)[0]\n",
    "    license_plates = []\n",
    "    \n",
    "    for lp in detected_lps.boxes.data.tolist():\n",
    "        \n",
    "        x1, y1, x2, y2, conf, _ = lp\n",
    "       \n",
    "        img_array = cv2.imread(img)\n",
    "        cropped_lp =img_array[int(y1):int(y2), int(x1):int(x2), :]\n",
    "        license_plates.append(cropped_lp)\n",
    "        if save_img:\n",
    "            cv2.imwrite(f\"cropped_license_plates/cropped_{img_name}\", cropped_lp)\n",
    "        \n",
    "        \n",
    "    return license_plates"
   ]
  },
  {
   "cell_type": "code",
   "execution_count": 74,
   "metadata": {},
   "outputs": [],
   "source": [
    "def ocr(image):\n",
    "    custom_config = r'--psm 6 --oem 3 -c tessedit_char_whitelist=ABCDEFGHIJKLMNOPQRSTUVWXYZÖ0123456789'\n",
    "    text = pytesseract.image_to_string(image, lang='deu', config=custom_config)\n",
    "    if text:\n",
    "        return text.strip(\"\\n\")\n",
    "    return \"not detected\""
   ]
  },
  {
   "cell_type": "code",
   "execution_count": 75,
   "metadata": {},
   "outputs": [],
   "source": [
    "def get_new_w_h(rect):\n",
    "    (tl, tr, br, bl) = rect\n",
    "    widthA = np.sqrt(((br[0] - bl[0]) ** 2) + ((br[1] - bl[1]) ** 2))\n",
    "    widthB = np.sqrt(((tr[0] - tl[0]) ** 2) + ((tr[1] - tl[1]) ** 2))\n",
    "\n",
    "    heightA = np.sqrt(((tr[0] - br[0]) ** 2) + ((tr[1] - br[1]) ** 2))\n",
    "    heightB = np.sqrt(((tl[0] - bl[0]) ** 2) + ((tl[1] - bl[1]) ** 2))\n",
    "\n",
    "    maxWidth = max(int(widthA), int(widthB))\n",
    "    maxHeight = max(int(heightA), int(heightB))\n",
    "    return maxWidth, maxHeight\n",
    "    "
   ]
  },
  {
   "cell_type": "code",
   "execution_count": 76,
   "metadata": {},
   "outputs": [],
   "source": [
    "def warp_image(img, contour):\n",
    "    \n",
    "    approx = cv2.approxPolyDP(contour, 0.015 * cv2.arcLength(contour, True), True)\n",
    "    dst_coords = None\n",
    "    if len(approx) == 4:\n",
    "        dst_coords = approx\n",
    "    if dst_coords is None:\n",
    "        return None\n",
    "    points = dst_coords.reshape(4, 2)\n",
    "    rect = np.zeros((4, 2), dtype = \"float32\")\n",
    "    s = points.sum(axis = 1)\n",
    "    rect[0] = points[np.argmin(s)]\n",
    "    rect[2] = points[np.argmax(s)]\n",
    "\n",
    "    diff = np.diff(points, axis = 1)\n",
    "    rect[1] = points[np.argmin(diff)]\n",
    "    rect[3] = points[np.argmax(diff)]\n",
    "    \n",
    "    maxWidth, maxHeight = get_new_w_h(rect)\n",
    "    dst = np.array([[0, 0],\n",
    "                    [maxWidth - 1, 0],\n",
    "                    [maxWidth - 1, maxHeight - 1],\n",
    "                    [0, maxHeight - 1]],\n",
    "                    dtype = \"float32\")\n",
    "\n",
    "    M = cv2.getPerspectiveTransform(rect, dst)\n",
    "    warp = cv2.warpPerspective(img.copy(), M, (maxWidth, maxHeight))\n",
    "    return warp\n",
    "    "
   ]
  },
  {
   "cell_type": "code",
   "execution_count": 77,
   "metadata": {},
   "outputs": [],
   "source": [
    "def apply_image_processing(img, kernel):\n",
    "    kernel = np.ones((3,3),np.uint8)\n",
    "    # grayscale\n",
    "    lp_gray = cv2.cvtColor(img, cv2.COLOR_BGR2GRAY)\n",
    "    # erosion\n",
    "    lp_gray = cv2.erode(lp_gray, kernel, iterations=1)\n",
    "    # bilateral filter\n",
    "    lp_gray = cv2.bilateralFilter(lp_gray, 5, 75, 75)\n",
    "    # binary thresholding\n",
    "    _, lp_threshold = cv2.threshold(lp_gray, 6, 255, cv2.THRESH_BINARY + cv2.THRESH_OTSU)\n",
    "    \n",
    "    return lp_threshold"
   ]
  },
  {
   "cell_type": "code",
   "execution_count": 78,
   "metadata": {},
   "outputs": [],
   "source": [
    "def preprocess_license_plate(license_plate, name, save_img=True):\n",
    "    \n",
    "    kernel = np.ones((3,3),np.uint8)\n",
    "    lp_threshold = apply_image_processing(license_plate, kernel)\n",
    "    \n",
    "    contours, _ = cv2.findContours(lp_threshold, cv2.RETR_EXTERNAL, cv2.CHAIN_APPROX_SIMPLE)\n",
    "    \n",
    "    if not contours:\n",
    "        return None\n",
    "    \n",
    "    # contour with largest area\n",
    "    max_contour = max(contours, key=cv2.contourArea)\n",
    "    #warped_img = warp_image(license_plate.copy(), max_contour)\n",
    "    \n",
    "    # Crop the license plate region\n",
    "    x, y, w, h = cv2.boundingRect(max_contour)\n",
    "    license_plate_cropped = lp_threshold[y:y + h, x:x + w]\n",
    "\n",
    "    if save_img:\n",
    "        cv2.imwrite(f'thresholded_license_plates/thresh_bil_rectified_{name}', license_plate_cropped)\n",
    "\n",
    "    return license_plate_cropped"
   ]
  },
  {
   "cell_type": "code",
   "execution_count": 79,
   "metadata": {},
   "outputs": [],
   "source": [
    "#read characters on licenese plate using OCR  \n",
    "def read_license_plates(license_plates,name, save_img=True):\n",
    "    kernel = np.ones((3,3),np.uint8)\n",
    "    for lp in license_plates:\n",
    "\n",
    "        #pre processing of the image:\n",
    "        \n",
    "        #1.    grayscale the image\n",
    "       \n",
    "        lp_gray = cv2.cvtColor(lp, cv2.COLOR_BGR2GRAY)\n",
    "\n",
    "        #2.     erode the image\n",
    "        lp_gray = cv2.erode(lp_gray, kernel, iterations=1)\n",
    "\n",
    "        #3a.     remove noise with median filter\n",
    "        lp_median = cv2.medianBlur(lp_gray,5)\n",
    "        \n",
    "        #3b.     remove noise with bilateral filter\n",
    "        lp_bilateral = cv2.bilateralFilter(lp_gray, 5, 75, 75)\n",
    "\n",
    "        #4a.    canny edge detection \n",
    "        lp_canny = cv2.Canny(lp_median, 100, 200)\n",
    "\n",
    "        #4b.     binary thresholding \n",
    "        _, lp_threshold = cv2.threshold(lp_median, 6, 255, cv2.THRESH_BINARY + cv2.THRESH_OTSU)\n",
    "        _, lp_threshold2 = cv2.threshold(lp_bilateral, 6, 255, cv2.THRESH_BINARY + cv2.THRESH_OTSU)\n",
    "        if save_img:\n",
    "            cv2.imwrite(f'thresholded_license_plates/thresh_median_{name}', lp_threshold)\n",
    "            cv2.imwrite(f'thresholded_license_plates/thresh_bil_{name}', lp_threshold2)\n",
    "            cv2.imwrite(f'thresholded_license_plates/canny_{name}', lp_canny)\n",
    "\n",
    "        return lp_threshold, lp_threshold2, lp_canny"
   ]
  },
  {
   "cell_type": "code",
   "execution_count": 80,
   "metadata": {},
   "outputs": [],
   "source": [
    "def find_license_plate_id(img_file):\n",
    "   \n",
    "    detected_licenseplates = crop_license_plates(img_file, lp_detect_model)\n",
    "    assert len(detected_licenseplates) == 1, \"WARNING! More than one License plate detected. Access denied!\"\n",
    "    re_cropped = preprocess_license_plate(detected_licenseplates[0], img_file, save_img=False)\n",
    "    if re_cropped is not None:\n",
    "        return ocr(re_cropped)\n",
    "    return None"
   ]
  },
  {
   "cell_type": "code",
   "execution_count": 81,
   "metadata": {},
   "outputs": [],
   "source": [
    "def main():\n",
    "    path_to_cam_frames = 'cam_frames'\n",
    "    all_lp_ids = []\n",
    "    img_files = [os.path.join(path_to_cam_frames, f) for f in os.listdir(path_to_cam_frames)\n",
    "                 if f.endswith('.jpg') or f.endswith('.png')]\n",
    "    all_lp_ids = map(find_license_plate_id, img_files)\n",
    "    all_lp_ids = [lp_id for lp_id in all_lp_ids if lp_id is not None]\n",
    "    predicted_license_plate_id = max(set(all_lp_ids), key=all_lp_ids.count)\n",
    "    print(predicted_license_plate_id)\n",
    "    "
   ]
  },
  {
   "cell_type": "code",
   "execution_count": 83,
   "metadata": {},
   "outputs": [
    {
     "name": "stderr",
     "output_type": "stream",
     "text": [
      "\n",
      "image 1/1 e:\\Users\\belau\\Documents\\BV-ML-CV-Praktikum\\cam_frames\\image_1.jpg: 512x640 1 license_plate, 148.1ms\n",
      "Speed: 2.0ms preprocess, 148.1ms inference, 1.0ms postprocess per image at shape (1, 3, 640, 640)\n"
     ]
    },
    {
     "name": "stdout",
     "output_type": "stream",
     "text": [
      "Processing image_1.jpg\n"
     ]
    },
    {
     "name": "stderr",
     "output_type": "stream",
     "text": [
      "\n",
      "image 1/1 e:\\Users\\belau\\Documents\\BV-ML-CV-Praktikum\\cam_frames\\image_2.jpg: 512x640 1 license_plate, 147.1ms\n",
      "Speed: 1.0ms preprocess, 147.1ms inference, 0.0ms postprocess per image at shape (1, 3, 640, 640)\n"
     ]
    },
    {
     "name": "stdout",
     "output_type": "stream",
     "text": [
      "Processing image_2.jpg\n"
     ]
    },
    {
     "name": "stderr",
     "output_type": "stream",
     "text": [
      "\n",
      "image 1/1 e:\\Users\\belau\\Documents\\BV-ML-CV-Praktikum\\cam_frames\\image_3.jpg: 512x640 1 license_plate, 151.1ms\n",
      "Speed: 2.0ms preprocess, 151.1ms inference, 1.0ms postprocess per image at shape (1, 3, 640, 640)\n"
     ]
    },
    {
     "name": "stdout",
     "output_type": "stream",
     "text": [
      "Processing image_3.jpg\n"
     ]
    },
    {
     "name": "stderr",
     "output_type": "stream",
     "text": [
      "\n",
      "image 1/1 e:\\Users\\belau\\Documents\\BV-ML-CV-Praktikum\\cam_frames\\image_4.jpg: 512x640 1 license_plate, 144.1ms\n",
      "Speed: 2.0ms preprocess, 144.1ms inference, 1.0ms postprocess per image at shape (1, 3, 640, 640)\n"
     ]
    },
    {
     "name": "stdout",
     "output_type": "stream",
     "text": [
      "Processing image_4.jpg\n"
     ]
    },
    {
     "name": "stderr",
     "output_type": "stream",
     "text": [
      "\n",
      "image 1/1 e:\\Users\\belau\\Documents\\BV-ML-CV-Praktikum\\cam_frames\\image_5.jpg: 512x640 1 license_plate, 144.1ms\n",
      "Speed: 1.0ms preprocess, 144.1ms inference, 1.0ms postprocess per image at shape (1, 3, 640, 640)\n"
     ]
    },
    {
     "name": "stdout",
     "output_type": "stream",
     "text": [
      "Processing image_5.jpg\n",
      "SHGLF2O6\n"
     ]
    }
   ],
   "source": [
    "if __name__ == \"__main__\":\n",
    "    main()"
   ]
  },
  {
   "cell_type": "code",
   "execution_count": 82,
   "metadata": {},
   "outputs": [
    {
     "name": "stderr",
     "output_type": "stream",
     "text": [
      "\n"
     ]
    },
    {
     "name": "stdout",
     "output_type": "stream",
     "text": [
      "Processing image_1.jpg\n"
     ]
    },
    {
     "name": "stderr",
     "output_type": "stream",
     "text": [
      "image 1/1 e:\\Users\\belau\\Documents\\BV-ML-CV-Praktikum\\cam_frames\\image_1.jpg: 512x640 1 license_plate, 151.1ms\n",
      "Speed: 2.0ms preprocess, 151.1ms inference, 0.0ms postprocess per image at shape (1, 3, 640, 640)\n",
      "\n",
      "image 1/1 e:\\Users\\belau\\Documents\\BV-ML-CV-Praktikum\\cam_frames\\image_2.jpg: 512x640 1 license_plate, 151.1ms\n",
      "Speed: 1.0ms preprocess, 151.1ms inference, 1.0ms postprocess per image at shape (1, 3, 640, 640)\n"
     ]
    },
    {
     "name": "stdout",
     "output_type": "stream",
     "text": [
      "Processing image_2.jpg\n"
     ]
    },
    {
     "name": "stderr",
     "output_type": "stream",
     "text": [
      "\n",
      "image 1/1 e:\\Users\\belau\\Documents\\BV-ML-CV-Praktikum\\cam_frames\\image_3.jpg: 512x640 1 license_plate, 154.1ms\n",
      "Speed: 1.0ms preprocess, 154.1ms inference, 1.0ms postprocess per image at shape (1, 3, 640, 640)\n"
     ]
    },
    {
     "name": "stdout",
     "output_type": "stream",
     "text": [
      "Processing image_3.jpg\n"
     ]
    },
    {
     "name": "stderr",
     "output_type": "stream",
     "text": [
      "\n",
      "image 1/1 e:\\Users\\belau\\Documents\\BV-ML-CV-Praktikum\\cam_frames\\image_4.jpg: 512x640 1 license_plate, 157.1ms\n",
      "Speed: 2.0ms preprocess, 157.1ms inference, 1.0ms postprocess per image at shape (1, 3, 640, 640)\n"
     ]
    },
    {
     "name": "stdout",
     "output_type": "stream",
     "text": [
      "Processing image_4.jpg\n"
     ]
    },
    {
     "name": "stderr",
     "output_type": "stream",
     "text": [
      "\n",
      "image 1/1 e:\\Users\\belau\\Documents\\BV-ML-CV-Praktikum\\cam_frames\\image_5.jpg: 512x640 1 license_plate, 166.2ms\n",
      "Speed: 2.0ms preprocess, 166.2ms inference, 1.0ms postprocess per image at shape (1, 3, 640, 640)\n"
     ]
    },
    {
     "name": "stdout",
     "output_type": "stream",
     "text": [
      "Processing image_5.jpg\n",
      "SHGLF2O6\n"
     ]
    }
   ],
   "source": [
    "path_to_cam_frames = 'cam_frames'\n",
    "all_lp_ids = []\n",
    "for f in os.listdir(path_to_cam_frames):\n",
    "    if f.endswith('.jpg') or f.endswith('.png'):\n",
    "        img = os.path.join(path_to_cam_frames, f)\n",
    "\n",
    "        detected_licenseplates = crop_license_plates(img, lp_detect_model)\n",
    "        assert len(detected_licenseplates) == 1, \"WARNING! More than one License plate detected. Access denied!\"\n",
    "        \n",
    "        re_cropped = preprocess_license_plate(detected_licenseplates[0], f)\n",
    "        if re_cropped is not None:\n",
    "            all_lp_ids.append(ocr(re_cropped))\n",
    "            \n",
    "predicted_license_plate_id = max(set(all_lp_ids), key=all_lp_ids.count)   \n",
    "print(predicted_license_plate_id)      "
   ]
  },
  {
   "cell_type": "code",
   "execution_count": null,
   "metadata": {},
   "outputs": [],
   "source": []
  }
 ],
 "metadata": {
  "kernelspec": {
   "display_name": "Python 3",
   "language": "python",
   "name": "python3"
  },
  "language_info": {
   "codemirror_mode": {
    "name": "ipython",
    "version": 3
   },
   "file_extension": ".py",
   "mimetype": "text/x-python",
   "name": "python",
   "nbconvert_exporter": "python",
   "pygments_lexer": "ipython3",
   "version": "3.11.0"
  },
  "orig_nbformat": 4
 },
 "nbformat": 4,
 "nbformat_minor": 2
}
